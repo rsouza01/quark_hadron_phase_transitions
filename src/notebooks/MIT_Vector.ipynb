{
 "cells": [
  {
   "cell_type": "code",
   "execution_count": 1,
   "metadata": {
    "scrolled": true
   },
   "outputs": [
    {
     "data": {
      "application/javascript": [
       "   MathJax.Hub.Config({\n",
       "     TeX: { equationNumbers: { autoNumber: \"AMS\" } }\n",
       "   });"
      ],
      "text/plain": [
       "<IPython.core.display.Javascript object>"
      ]
     },
     "metadata": {},
     "output_type": "display_data"
    }
   ],
   "source": [
    " %%javascript\n",
    "    MathJax.Hub.Config({\n",
    "      TeX: { equationNumbers: { autoNumber: \"AMS\" } }\n",
    "    });"
   ]
  },
  {
   "cell_type": "markdown",
   "metadata": {},
   "source": [
    "## Quark Hadron Phase transitions ([Github repository](https://github.com/rsouza01/quark_hadron_phase_transitions))"
   ]
  },
  {
   "cell_type": "markdown",
   "metadata": {},
   "source": [
    "$\\def\\sumint{\\sum\\!\\!\\!\\!\\!\\!\\!\\int\\,}$\n",
    "$\\def\\Mp{M_{n,{\\bf p}}}$\n",
    "$\\DeclareMathOperator{\\Tr}{Tr}$\n",
    "\n",
    "\n",
    "# MIT EOS with Vector Interactions\n",
    "\n",
    "\n",
    "The quark phase in this model is represented by a bag model with an additional vector interaction. We have the quarks $u$, $d$ and $s$, plus the leptons $e^-$ and $\\mu^-$ as degrees of freedom. The lagrangian density reads:\n",
    "\n",
    "\n",
    "\\begin{equation}\n",
    "\\mathcal{L} = \\underset{q}{\\sum}\\left[ \\overline{\\psi}_{q}  (i\\gamma_{\\mu}\\partial^{\\mu}-g_{V q}\\gamma_{\\mu}V^{\\mu} -m_q - B)\\psi_{q}\\right]\\theta_H + \\underset{l}{\\sum}\\overline{\\psi}_{l}\\gamma_{\\mu}\\left(i\\partial^{\\mu}-m_{l}\\right)\\psi_{l}\n",
    "\\end{equation}\n",
    "\n",
    "\n",
    "with $\\theta_H$ being the Heavyside function responsible for the confinement feature of the model ($\\theta_H = 1$ inside the bag, $\\theta_H = 0$ otherwise), and $B$ the bag constant. \n",
    "\n",
    "The vector interaction is introduced by a vector-isoscalar meson $V^{\\mu}$ with coupling constant $g_V$, coupling to all three quarks. This vector interaction introduces a shift in the chemical potential\n",
    "\n",
    "\\begin{equation}\n",
    "\\mu_{q_i}^{*} = \\sqrt{k_{f_q}^2 + m_{q}^{2}} + g_{V_q}V\n",
    "\\end{equation}\n",
    "\n",
    "\n",
    "According to Noether's theory, the energy-momentum tensor is given by\n",
    "\n",
    "\\begin{equation}\n",
    "T^{\\mu}_{\\nu} = \\frac{\\delta \\mathcal{L}}{\\delta \\partial_{\\mu} \\phi } \\partial_{\\nu}\\phi - \\delta^{\\mu}_{\\nu}\\phi\n",
    "\\end{equation}\n",
    "\n",
    "\n"
   ]
  },
  {
   "cell_type": "code",
   "execution_count": null,
   "metadata": {},
   "outputs": [],
   "source": []
  }
 ],
 "metadata": {
  "kernelspec": {
   "display_name": "Python 2",
   "language": "python",
   "name": "python2"
  },
  "language_info": {
   "codemirror_mode": {
    "name": "ipython",
    "version": 2
   },
   "file_extension": ".py",
   "mimetype": "text/x-python",
   "name": "python",
   "nbconvert_exporter": "python",
   "pygments_lexer": "ipython2",
   "version": "2.7.15rc1"
  }
 },
 "nbformat": 4,
 "nbformat_minor": 2
}
